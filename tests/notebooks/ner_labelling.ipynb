{
 "cells": [
  {
   "cell_type": "markdown",
   "metadata": {},
   "source": [
    "## Task 2 : Label a Subset of Dataset in CoNLL Format\n",
    "In this task, we aim to label the provided dataset in the CoNLL format, which is commonly used for Named Entity Recognition (NER) tasks. The goal is to identify and label key entities such as product names, prices, and locations in Amharic text from Telegram-based e-commerce messages.\n",
    "\n",
    "Entity Labels:\n",
    "- B-Product: Marks the beginning of a product name.\n",
    "- I-Product: Marks a token inside the product name.\n",
    "- B-LOC: Marks the beginning of a location entity.\n",
    "- I-LOC: Marks a token inside the location entity.\n",
    "- B-PRICE: Marks the beginning of a price entity.\n",
    "- I-PRICE: Marks tokens inside the price entity.\n",
    "- O: Tokens that are outside of any entities."
   ]
  },
  {
   "cell_type": "markdown",
   "metadata": {},
   "source": [
    "Import Libraries"
   ]
  },
  {
   "cell_type": "code",
   "execution_count": 1,
   "metadata": {},
   "outputs": [],
   "source": [
    "import pandas as pd\n",
    "import matplotlib.pyplot as plt\n",
    "from collections import Counter"
   ]
  },
  {
   "cell_type": "code",
   "execution_count": 2,
   "metadata": {},
   "outputs": [],
   "source": [
    "# Add the parent directory to the system path \n",
    "import os\n",
    "import sys\n",
    "sys.path.append(os.path.abspath(os.path.join('..')))"
   ]
  },
  {
   "cell_type": "code",
   "execution_count": 3,
   "metadata": {},
   "outputs": [],
   "source": [
    "# importing modules from scripts \n",
    "from scripts.ner_labelling import *"
   ]
  },
  {
   "cell_type": "code",
   "execution_count": 4,
   "metadata": {},
   "outputs": [],
   "source": [
    "# Load the preprocessed data\n",
    "df = pd.read_csv('../data/preprocessed_telegram_messages.csv')"
   ]
  },
  {
   "cell_type": "code",
   "execution_count": 5,
   "metadata": {},
   "outputs": [
    {
     "name": "stdout",
     "output_type": "stream",
     "text": [
      "                                     cleaned_message  \\\n",
      "0  ለኮንዶሚኒየም ለጠባብ ቤቶች ገላግሌ የሆነ ከንፁህ የሲልከን ጥሬ እቃ የተ...   \n",
      "1    ከላዩ ፈር ውስጡ ኮተን የሆነ 2000    0909003864 090570...   \n",
      "2   5     ኦሪጅናል ማቴሪያል በሳይዙ ትልቅ 3200 ብር   09090038...   \n",
      "3      ምቹ ጠንካራ የልጆች ማዘያ በተለይ ለወንድ ልጆች ፍሬያቸው እንዳይጎ...   \n",
      "4    400 ብር  .80*2   0909003864 0905707448 እቃ ለማዘ...   \n",
      "5          ከጡት የሚንጠባጠብ ወተትን ማጠራቀሚያ በቀላሉ ጡት መያዚያ ስ...   \n",
      "6  ክቡራን ደምበኞቻችን እሁድ ገርጂ እና ብስራተ ገብሬል የሚገኘው ሱቃችን ከ...   \n",
      "7         250  0909003864 0905707448 ሊንኩን በመጫን ቴሌ...   \n",
      "8  50   700  0909003864 0905707448 ሊንኩን በመጫን ቴሌግራ...   \n",
      "9     ባለ ኮፉያ ምቹ ማዘያ በ 3 አቅጣጫ ማዘል የሚያስችል 3300 ብር 8...   \n",
      "\n",
      "                                              tokens  \n",
      "0  ['ለኮንዶሚኒየም', 'ለጠባብ', 'ቤቶች', 'ገላግሌ', 'የሆነ', 'ከን...  \n",
      "1  ['ከላዩ', 'ፈር', 'ውስጡ', 'ኮተን', 'የሆነ', '2000', '09...  \n",
      "2  ['5', 'ኦሪጅናል', 'ማቴሪያል', 'በሳይዙ', 'ትልቅ', '3200',...  \n",
      "3  ['ምቹ', 'ጠንካራ', 'የልጆች', 'ማዘያ', 'በተለይ', 'ለወንድ', ...  \n",
      "4  ['400', 'ብር', '.80*2', '0909003864', '09057074...  \n",
      "5  ['ከጡት', 'የሚንጠባጠብ', 'ወተትን', 'ማጠራቀሚያ', 'በቀላሉ', '...  \n",
      "6  ['ክቡራን', 'ደምበኞቻችን', 'እሁድ', 'ገርጂ', 'እና', 'ብስራተ'...  \n",
      "7  ['250', '0909003864', '0905707448', 'ሊንኩን', 'በ...  \n",
      "8  ['50', '700', '0909003864', '0905707448', 'ሊንኩ...  \n",
      "9  ['ባለ', 'ኮፉያ', 'ምቹ', 'ማዘያ', 'በ', '3', 'አቅጣጫ', '...  \n"
     ]
    }
   ],
   "source": [
    "# Display the first few rows\n",
    "print(df[['cleaned_message', 'tokens']].head(10))"
   ]
  },
  {
   "cell_type": "code",
   "execution_count": 6,
   "metadata": {},
   "outputs": [
    {
     "name": "stdout",
     "output_type": "stream",
     "text": [
      "Number of unique words: 1049\n"
     ]
    }
   ],
   "source": [
    "unique_words = df['tokens'].nunique()\n",
    "\n",
    "print(f'Number of unique words: {unique_words}')"
   ]
  },
  {
   "cell_type": "code",
   "execution_count": 7,
   "metadata": {},
   "outputs": [
    {
     "name": "stdout",
     "output_type": "stream",
     "text": [
      "[\"['ለኮንዶሚኒየም', 'ለጠባብ', 'ቤቶች', 'ገላግሌ', 'የሆነ', 'ከንፁህ', 'የሲልከን', 'ጥሬ', 'እቃ', 'የተሰራ', 'የልጆች', 'ማጠቢያ', 'ምስሉ', 'ላይ', 'እንደሚያዩት', 'መታጠፍ', 'መዘርጋት', 'የሚችል', '3350ብር', 'ይደውሉልን', 'እርሶ', 'መምጣት', 'ባይመቾ', 'እኛ', 'ያሉበት', 'ድረስ', 'እናደርስሎታለን', 'ስልክ', '0905707448', '0909003864', 'ሲና', 'የተመረጡና', 'ጥራታቸውን', 'የጠበቁ', 'የልጆች', 'እቃ', 'አስመጪ', '0909003864', '0905707448', 'እቃ', 'ለማዘዝ', 'ከስር', 'ያለውን', 'ሊንኮች', 'በመጫን', 'ማዘዝ', 'ትችላላቹ', '@', '@2', 'አድራሻ', 'ቁጥር', 'ገርጂ', 'ኢምፔሪያል', 'ከሳሚ', 'ህንፃ', 'ጎን', 'አልፎዝ', 'ፕላዛ', 'ግራውንድ', 'ላይ', 'እንደገቡ', 'ያገኙናል', '2ቁጥር2', '4ኪሎ', 'ቅድስት', 'ስላሴ', 'ህንፃ', 'ማለትም', 'ከብልፅግና', 'ዋናፅፈት', 'ቤት', 'ህንፃ', 'በስተ', 'ቀኝ', 'ባለው', 'አስፓልት', '20ሜትር', 'ዝቅ', 'እንዳሉ', 'ሀበሻ', 'ኮፊ', 'የሚገኝበት', 'ቀይ', 'ሸክላ', 'ህንፃ', '2ተኛ', 'ፎቅ', 'ላይ', 'ያገኙናል', '3ቁጥር3', 'ብስራተ', 'ገብርኤል', 'ላፍቶ', 'ሞል', 'መግቢያው', 'ፊት', 'ለፊት', 'የሚገኘው', 'የብስራተ', 'ገብርኤል', 'ቤተ', 'ክርስቲያን', 'ህንፃ', 'አንደኛ', 'ፎቅ', 'ላይ', 'ደረጃ', 'እንደወጣቹ', 'በስተግራ', 'በኩል', 'ሱቅ', 'ቁጥር', '-09', 'ክቡራን', 'ደምበኞቻችን', 'ገርጂ', 'አልፎዝ', 'ፕላዛ', 'ላይ', 'አራት', 'ኪሎ', 'ቅድስት', 'ስላሴ', 'እንዲሁም', 'ብስራተ', 'ገብሬል', 'ያሉት', 'ሱቆቻችን', 'ሲመጡ', 'አስተማማኝ', 'ሰፊ', 'ፓርኪንግ', 'ያላቸው', 'መሆናቸውን', 'በታላቅ', 'ደስታ', 'እናበስራለን']\"\n",
      " \"['ከላዩ', 'ፈር', 'ውስጡ', 'ኮተን', 'የሆነ', '2000', '0909003864', '0905707448', 'እቃ', 'ለማዘዝ', 'ከስር', 'ያለውን', 'ሊንኮች', 'በመጫን', 'ማዘዝ', 'ትችላላቹ', '@', '@2', 'አድራሻ', 'ቁጥር', 'ገርጂ', 'ኢምፔሪያል', 'ከሳሚ', 'ህንፃ', 'ጎን', 'አልፎዝ', 'ፕላዛ', 'ግራውንድ', 'ላይ', 'እንደገቡ', 'ያገኙናል', '2ቁጥር2', '4ኪሎ', 'ቅድስት', 'ስላሴ', 'ህንፃ', 'ማለትም', 'ከብልፅግና', 'ዋናፅፈት', 'ቤት', 'ህንፃ', 'በስተ', 'ቀኝ', 'ባለው', 'አስፓልት', '20ሜትር', 'ዝቅ', 'እንዳሉ', 'ሀበሻ', 'ኮፊ', 'የሚገኝበት', 'ቀይ', 'ሸክላ', 'ህንፃ', '2ተኛ', 'ፎቅ', 'ላይ', 'ያገኙናል', '3ቁጥር3', 'ብስራተ', 'ገብርኤል', 'ላፍቶ', 'ሞል', 'መግቢያው', 'ፊት', 'ለፊት', 'የሚገኘው', 'የብስራተ', 'ገብርኤል', 'ቤተ', 'ክርስቲያን', 'ህንፃ', 'አንደኛ', 'ፎቅ', 'ላይ', 'ደረጃ', 'እንደወጣቹ', 'በስተግራ', 'በኩል', 'ሱቅ', 'ቁጥር', '-09', 'ክቡራን', 'ደምበኞቻችን', 'ገርጂ', 'አልፎዝ', 'ፕላዛ', 'ላይ', 'እንዲሁም', 'አራት', 'ኪሎ', 'ቅድስት', 'ስላሴ', 'ህንፃ', 'ላይ', 'ያሉት', 'ብራንቾቻችን', 'ላይ', 'እቃ', 'ለመግዛት', 'ሲመጡ', 'አስተማማኝ', 'ሰፊ', 'ፓርኪንግ', 'ያለው', 'ጊቢ', 'ያላቸው', 'ህንፃዎች', 'መሆናቸውን', 'በታላቅ', 'ደስታ', 'እናበስራለን']\"\n",
      " \"['5', 'ኦሪጅናል', 'ማቴሪያል', 'በሳይዙ', 'ትልቅ', '3200', 'ብር', '0909003864', '0905707448', 'ሊንኩን', 'በመጫን', 'ቴሌግራማችንን', 'ይቀላቀሉ://./', 'እቃ', 'ለማዘዝ', 'ከስር', 'ያለውን', 'ሊንኮች', 'በመጫን', 'ማዘዝ', 'ትችላላቹ', '@', '://./2', 'አድራሻ', 'ቁጥር', 'ገርጂ', 'ኢምፔሪያል', 'ከሳሚ', 'ህንፃ', 'ጎን', 'አልፎዝ', 'ፕላዛ', 'ግራውንድ', 'ላይ', 'እንደገቡ', 'ያገኙናል', '2ቁጥር2', '4ኪሎ', 'ቅድስት', 'ስላሴ', 'ህንፃ', 'ማለትም', 'ከብልፅግና', 'ዋናፅፈት', 'ቤት', 'ህንፃ', 'በስተ', 'ቀኝ', 'ባለው', 'አስፓልት', '20ሜትር', 'ዝቅ', 'እንዳሉ', 'ሀበሻ', 'ኮፊ', 'የሚገኝበት', 'ቀይ', 'ሸክላ', 'ህንፃ', '2ተኛ', 'ፎቅ', 'ላይ', 'ያገኙናል', '3ቁጥር3', 'ብስራተ', 'ገብርኤል', 'ላፍቶ', 'ሞል', 'መግቢያው', 'ፊት', 'ለፊት', 'የሚገኘው', 'የብስራተ', 'ገብርኤል', 'ቤተ', 'ክርስቲያን', 'ህንፃ', 'አንደኛ', 'ፎቅ', 'ላይ', 'ደረጃ', 'እንደወጣቹ', 'በስተግራ', 'በኩል', 'ሱቅ', 'ቁጥር', '-09', 'ክቡራን', 'ደምበኞቻችን', 'ገርጂ', 'አልፎዝ', 'ፕላዛ', 'ላይ', 'አራት', 'ኪሎ', 'ቅድስት', 'ስላሴ', 'እንዲሁም', 'ብስራተ', 'ገብሬል', 'ያሉት', 'ሱቆቻችን', 'ሲመጡ', 'አስተማማኝ', 'ሰፊ', 'ፓርኪንግ', 'ያላቸው', 'መሆናቸውን', 'በታላቅ', 'ደስታ', 'እናበስራለን']\"\n",
      " ...\n",
      " \"['ለልጆች', 'ምቹ', 'እና', 'ኮንፈርተብል', 'ማት', 'ከላይ', 'ማጫወቻ', 'ያለዉ', 'ከተፈለገ', 'ማጫወቻዉን', 'አንስቶ', 'መተኛም', 'ይሆናል', 'ወቶ', 'ጨርቁም', 'መታጠብ', 'ይችላል', 'ከለር', 'ብሉ', 'ፒንክ', 'ነጭ', 'ያሉን', 'ጥቂት', 'ፉሬዎች', 'ሰለሆኑ', 'አሁኑኑ', 'ለልጆ', 'ይግዙ', '2500', 'ብር', '0905707448/0945097042', 'ይደዉሉ', 'ያለተጨማሪ', 'ክፉያ', 'ያሉበት', 'እናደርሳለን']\"\n",
      " \"['በባትሪ', 'የሚሰራ', 'ድምፅ', 'ያለው', 'የልጆች', 'ፖፖ', '899', 'ብር', '0905707448', '0945097042', './']\"\n",
      " \"['ውድ', 'የሲና', 'ኪድስ', 'ደምበኞች', 'በድጋሚ', 'ገብቷል', 'የመዋኛ', 'ገንዳ', 'ትልቅ', 'ሳይዝ', 'የራሱ', 'መንፊያ', 'ፓንፕ', 'ያለው', 'ለልጆ', 'ደስታ', 'ወደር', 'የሌለው', 'እቃ', 'ይደውሉ', 'ያሉበት', 'ድረስ', 'ሳናስከፍል', 'እናደርስሎታለን', '0905707448', '0945097042']\"]\n"
     ]
    }
   ],
   "source": [
    "unique_words_list = df['tokens'].unique()\n",
    "print(unique_words_list)"
   ]
  },
  {
   "cell_type": "code",
   "execution_count": 8,
   "metadata": {},
   "outputs": [],
   "source": [
    "# Function to process a single message\n",
    "def process_single_message(row):\n",
    "    tokens = eval(row['tokens'])\n",
    "    labels = label_entities(tokens)\n",
    "    return create_conll_format(tokens, labels)"
   ]
  },
  {
   "cell_type": "markdown",
   "metadata": {},
   "source": [
    "### Labeling the Dataset \n",
    "Manually label messages in CoNLL format:\n",
    "- Each word in a message is labeled with its appropriate entity tag ( B-Product, I-Product, B-LOC, B-PRICE, I-PRICE, I-LOC, O)"
   ]
  },
  {
   "cell_type": "code",
   "execution_count": 9,
   "metadata": {},
   "outputs": [],
   "source": [
    "# Process the messages\n",
    "labeled_data = df.apply(process_single_message, axis=1)"
   ]
  },
  {
   "cell_type": "code",
   "execution_count": 10,
   "metadata": {},
   "outputs": [
    {
     "name": "stdout",
     "output_type": "stream",
     "text": [
      "First labeled message in CoNLL format:\n",
      "ለኮንዶሚኒየም O\n",
      "ለጠባብ B-Product\n",
      "ቤቶች O\n",
      "ገላግሌ B-Product\n",
      "የሆነ O\n",
      "ከንፁህ B-Product\n",
      "የሲልከን I-Product\n",
      "ጥሬ I-Product\n",
      "እቃ I-Product\n",
      "የተሰራ O\n",
      "የልጆች B-Product\n",
      "ማጠቢያ I-Product\n",
      "ምስሉ O\n",
      "ላይ B-LOC\n",
      "እንደሚያዩት O\n",
      "መታጠፍ B-Product\n",
      "መዘርጋት I-Product\n",
      "የሚችል O\n",
      "3350ብር O\n",
      "ይደውሉልን O\n",
      "እርሶ O\n",
      "መምጣት O\n",
      "ባይመቾ O\n",
      "እኛ O\n",
      "ያሉበት O\n",
      "ድረስ O\n",
      "እናደርስሎታለን O\n",
      "ስልክ O\n",
      "0905707448 O\n",
      "0909003864 O\n",
      "ሲና O\n",
      "የተመረጡና O\n",
      "ጥራታቸውን O\n",
      "የጠበቁ O\n",
      "የልጆች B-Product\n",
      "እቃ I-Product\n",
      "አስመጪ O\n",
      "0909003864 O\n",
      "0905707448 O\n",
      "እቃ B-Product\n",
      "ለማዘዝ O\n",
      "ከስር O\n",
      "ያለውን O\n",
      "ሊንኮች O\n",
      "በመጫን O\n",
      "ማዘዝ O\n",
      "ትችላላቹ O\n",
      "@ O\n",
      "@2 O\n",
      "አድራሻ B-LOC\n",
      "ቁጥር I-LOC\n",
      "ገርጂ I-LOC\n",
      "ኢምፔሪያል I-LOC\n",
      "ከሳሚ I-LOC\n",
      "ህንፃ I-LOC\n",
      "ጎን I-LOC\n",
      "አልፎዝ I-LOC\n",
      "ፕላዛ I-LOC\n",
      "ግራውንድ I-LOC\n",
      "ላይ I-LOC\n",
      "እንደገቡ I-LOC\n",
      "ያገኙናል I-LOC\n",
      "2ቁጥር2 O\n",
      "4ኪሎ B-LOC\n",
      "ቅድስት I-LOC\n",
      "ስላሴ I-LOC\n",
      "ህንፃ I-LOC\n",
      "ማለትም I-LOC\n",
      "ከብልፅግና I-LOC\n",
      "ዋናፅፈት I-LOC\n",
      "ቤት I-LOC\n",
      "ህንፃ I-LOC\n",
      "በስተ I-LOC\n",
      "ቀኝ I-LOC\n",
      "ባለው I-LOC\n",
      "አስፓልት I-LOC\n",
      "20ሜትር I-LOC\n",
      "ዝቅ I-LOC\n",
      "እንዳሉ I-LOC\n",
      "ሀበሻ I-LOC\n",
      "ኮፊ I-LOC\n",
      "የሚገኝበት I-LOC\n",
      "ቀይ I-LOC\n",
      "ሸክላ I-LOC\n",
      "ህንፃ I-LOC\n",
      "2ተኛ I-LOC\n",
      "ፎቅ I-LOC\n",
      "ላይ I-LOC\n",
      "ያገኙናል I-LOC\n",
      "3ቁጥር3 O\n",
      "ብስራተ B-LOC\n",
      "ገብርኤል I-LOC\n",
      "ላፍቶ I-LOC\n",
      "ሞል I-LOC\n",
      "መግቢያው I-LOC\n",
      "ፊት I-LOC\n",
      "ለፊት I-LOC\n",
      "የሚገኘው I-LOC\n",
      "የብስራተ I-LOC\n",
      "ገብርኤል I-LOC\n",
      "ቤተ I-LOC\n",
      "ክርስቲያን I-LOC\n",
      "ህንፃ I-LOC\n",
      "አንደኛ I-LOC\n",
      "ፎቅ I-LOC\n",
      "ላይ I-LOC\n",
      "ደረጃ I-LOC\n",
      "እንደወጣቹ I-LOC\n",
      "በስተግራ I-LOC\n",
      "በኩል I-LOC\n",
      "ሱቅ I-LOC\n",
      "ቁጥር I-LOC\n",
      "-09 I-LOC\n",
      "ክቡራን O\n",
      "ደምበኞቻችን O\n",
      "ገርጂ B-LOC\n",
      "አልፎዝ I-LOC\n",
      "ፕላዛ I-LOC\n",
      "ላይ I-LOC\n",
      "አራት O\n",
      "ኪሎ O\n",
      "ቅድስት B-LOC\n",
      "ስላሴ I-LOC\n",
      "እንዲሁም O\n",
      "ብስራተ B-LOC\n",
      "ገብሬል O\n",
      "ያሉት O\n",
      "ሱቆቻችን O\n",
      "ሲመጡ O\n",
      "አስተማማኝ O\n",
      "ሰፊ O\n",
      "ፓርኪንግ O\n",
      "ያላቸው O\n",
      "መሆናቸውን O\n",
      "በታላቅ O\n",
      "ደስታ O\n",
      "እናበስራለን O\n"
     ]
    }
   ],
   "source": [
    "# Display the first labeled message\n",
    "print(\"First labeled message in CoNLL format:\")\n",
    "print(labeled_data.iloc[0])"
   ]
  },
  {
   "cell_type": "markdown",
   "metadata": {},
   "source": [
    "### Save the labeled data to a file in conll format "
   ]
  },
  {
   "cell_type": "code",
   "execution_count": 11,
   "metadata": {},
   "outputs": [
    {
     "name": "stdout",
     "output_type": "stream",
     "text": [
      "\n",
      "Labeled  messages and saved to '../data/labeled_ner_data.conll'\n"
     ]
    }
   ],
   "source": [
    "# Save the labeled data to a file in conll format \n",
    "with open('../data/labeled_ner_data.conll', 'w', encoding='utf-8') as f:\n",
    "    f.write('\\n\\n'.join(labeled_data))\n",
    "\n",
    "print(f\"\\nLabeled  messages and saved to '../data/labeled_ner_data.conll'\")"
   ]
  },
  {
   "cell_type": "code",
   "execution_count": 12,
   "metadata": {},
   "outputs": [
    {
     "name": "stdout",
     "output_type": "stream",
     "text": [
      "\n",
      "Label distribution:\n",
      "I-LOC        35954\n",
      "O            33748\n",
      "B-LOC         4007\n",
      "B-Product     1391\n",
      "B-Price        330\n",
      "I-Price        330\n",
      "I-Product      212\n",
      "Name: count, dtype: int64\n"
     ]
    }
   ],
   "source": [
    "# Analyze label distribution\n",
    "all_labels = [label for message in labeled_data for label in message.split('\\n') if label]\n",
    "label_counts = pd.Series([l.split()[-1] for l in all_labels]).value_counts()\n",
    "\n",
    "print(\"\\nLabel distribution:\")\n",
    "print(label_counts)"
   ]
  },
  {
   "cell_type": "code",
   "execution_count": 13,
   "metadata": {},
   "outputs": [
    {
     "data": {
      "image/png": "[encoded data removed]",
      "text/plain": [
       "<Figure size 1000x600 with 1 Axes>"
      ]
     },
     "metadata": {},
     "output_type": "display_data"
    }
   ],
   "source": [
    "# Visualize label distribution\n",
    "import matplotlib.pyplot as plt\n",
    "\n",
    "plt.figure(figsize=(10, 6))\n",
    "label_counts.plot(kind='bar')\n",
    "plt.title('Distribution of NER Labels')\n",
    "plt.xlabel('Label')\n",
    "plt.ylabel('Count')\n",
    "plt.xticks(rotation=45)\n",
    "plt.tight_layout()\n",
    "plt.show()"
   ]
  },
  {
   "cell_type": "code",
   "execution_count": 14,
   "metadata": {},
   "outputs": [
    {
     "name": "stdout",
     "output_type": "stream",
     "text": [
      "የሚሰራ: B-Product\n",
      "ህንፃ: B-LOC\n",
      "በ: O\n",
      "ቁጥር: B-LOC\n",
      "1ቁጥር1: O\n",
      "እቃ: B-Product\n",
      "100: B-Price\n",
      "ብር: I-Price\n",
      "አድራሻ: B-LOC\n",
      "ባለው: I-LOC\n",
      "ገላግሌ: B-Product\n",
      "ከላይ: I-Product\n",
      "4ኪሎ: B-LOC\n",
      "ከብልፅግና: I-LOC\n",
      "200: O\n",
      "ማጠቢያ: B-Product\n"
     ]
    }
   ],
   "source": [
    "\n",
    " # Sample tokens (for illustration purposes)\n",
    "tokens = [\n",
    "    'የሚሰራ', 'ህንፃ', 'በ', 'ቁጥር', '1ቁጥር1', 'እቃ', '100', 'ብር',\n",
    "    'አድራሻ', 'ባለው', 'ገላግሌ', 'ከላይ', '4ኪሎ', 'ከብልፅግና',\n",
    "    '200', 'ማጠቢያ'\n",
    "    ]\n",
    "\n",
    "labels = label_entities(tokens)\n",
    "\n",
    "# Display tokens with their labels\n",
    "for token, label in zip(tokens, labels):\n",
    "    print(f\"{token}: {label}\")"
   ]
  }
 ],
 "metadata": {
  "kernelspec": {
   "display_name": "week5",
   "language": "python",
   "name": "python3"
  },
  "language_info": {
   "codemirror_mode": {
    "name": "ipython",
    "version": 3
   },
   "file_extension": ".py",
   "mimetype": "text/x-python",
   "name": "python",
   "nbconvert_exporter": "python",
   "pygments_lexer": "ipython3",
   "version": "3.12.1"
  }
 },
 "nbformat": 4,
 "nbformat_minor": 2
}
